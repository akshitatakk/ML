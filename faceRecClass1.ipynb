{
 "cells": [
  {
   "cell_type": "code",
   "execution_count": 1,
   "id": "f3b18d6b",
   "metadata": {},
   "outputs": [],
   "source": [
    "import glob\n",
    "import csv\n",
    "import cv2\n",
    "import face_recognition\n",
    "import pandas as pd\n",
    "from numpy.core.multiarray import ndarray\n",
    "import numpy as np"
   ]
  },
  {
   "cell_type": "markdown",
   "id": "757adef7",
   "metadata": {},
   "source": [
    "# Making csv using 20 folders with 15 images inside each folder"
   ]
  },
  {
   "cell_type": "code",
   "execution_count": null,
   "id": "e2e4c651",
   "metadata": {},
   "outputs": [],
   "source": [
    "X_data = []"
   ]
  },
  {
   "cell_type": "code",
   "execution_count": null,
   "id": "2e274115",
   "metadata": {},
   "outputs": [],
   "source": [
    "files = glob.glob (\"C:/Users/Akshay/Desktop/face_rec/1/*.jpg\")"
   ]
  },
  {
   "cell_type": "code",
   "execution_count": null,
   "id": "e830720f",
   "metadata": {},
   "outputs": [],
   "source": [
    "for myFile in files:\n",
    "    image: ndarray = face_recognition.load_image_file(myFile)\n",
    "    face_encodings = face_recognition.face_encodings(image)\n",
    "\n",
    "    if len(face_encodings) == 0:\n",
    "        # No faces found in the image.\n",
    "        print(\"No faces were found.\")\n",
    "        print(myFile)\n",
    "\n",
    "    else:\n",
    "        # Grab the first face encoding\n",
    "        first_face_encoding=list(face_encodings[0])\n",
    "\n",
    "\n",
    "        with open('New_faces.csv', 'a') as  f:\n",
    "            csv_writer = csv.writer(f, delimiter=';')\n",
    "            csv_writer.writerow(first_face_encoding)"
   ]
  },
  {
   "cell_type": "code",
   "execution_count": 36,
   "id": "dbac5406",
   "metadata": {},
   "outputs": [],
   "source": [
    "files = glob.glob (\"C:/Users/Akshay/Desktop/face_rec/2/*.jpg\")"
   ]
  },
  {
   "cell_type": "code",
   "execution_count": 37,
   "id": "dfe7e399",
   "metadata": {},
   "outputs": [
    {
     "name": "stdout",
     "output_type": "stream",
     "text": [
      "No faces were found.\n",
      "C:/Users/Akshay/Desktop/face_rec/2\\IMG-20200217-WA0008.jpg\n",
      "No faces were found.\n",
      "C:/Users/Akshay/Desktop/face_rec/2\\IMG-20200222-WA0227.jpg\n",
      "No faces were found.\n",
      "C:/Users/Akshay/Desktop/face_rec/2\\IMG-20210127-WA0035.jpg\n"
     ]
    }
   ],
   "source": [
    "for myFile in files:\n",
    "    image: ndarray = face_recognition.load_image_file(myFile)\n",
    "    face_encodings = face_recognition.face_encodings(image)\n",
    "\n",
    "    if len(face_encodings) == 0:\n",
    "        # No faces found in the image.\n",
    "        print(\"No faces were found.\")\n",
    "        print(myFile)\n",
    "\n",
    "    else:\n",
    "        # Grab the first face encoding\n",
    "        first_face_encoding=list(face_encodings[0])\n",
    "\n",
    "\n",
    "        with open('New_faces.csv', 'a') as  f:\n",
    "            csv_writer = csv.writer(f, delimiter=';')\n",
    "            csv_writer.writerow(first_face_encoding)"
   ]
  },
  {
   "cell_type": "code",
   "execution_count": 38,
   "id": "32721a5b",
   "metadata": {},
   "outputs": [],
   "source": [
    "files = glob.glob (\"C:/Users/Akshay/Desktop/face_rec/3/*.jpg\")"
   ]
  },
  {
   "cell_type": "code",
   "execution_count": 40,
   "id": "db8429cc",
   "metadata": {},
   "outputs": [],
   "source": [
    "for myFile in files:\n",
    "    image: ndarray = face_recognition.load_image_file(myFile)\n",
    "    face_encodings = face_recognition.face_encodings(image)\n",
    "\n",
    "    if len(face_encodings) == 0:\n",
    "        # No faces found in the image.\n",
    "        print(\"No faces were found.\")\n",
    "        print(myFile)\n",
    "\n",
    "    else:\n",
    "        # Grab the first face encoding\n",
    "        first_face_encoding=list(face_encodings[0])\n",
    "\n",
    "\n",
    "        with open('New_faces.csv', 'a') as  f:\n",
    "            csv_writer = csv.writer(f, delimiter=';')\n",
    "            csv_writer.writerow(first_face_encoding)"
   ]
  },
  {
   "cell_type": "code",
   "execution_count": 41,
   "id": "50aaa782",
   "metadata": {},
   "outputs": [
    {
     "name": "stdout",
     "output_type": "stream",
     "text": [
      "No faces were found.\n",
      "C:/Users/Akshay/Desktop/face_rec/4\\IMG-20210709-WA0006.jpg\n"
     ]
    }
   ],
   "source": [
    "files = glob.glob (\"C:/Users/Akshay/Desktop/face_rec/4/*.jpg\")\n",
    "for myFile in files:\n",
    "    image: ndarray = face_recognition.load_image_file(myFile)\n",
    "    face_encodings = face_recognition.face_encodings(image)\n",
    "\n",
    "    if len(face_encodings) == 0:\n",
    "        # No faces found in the image.\n",
    "        print(\"No faces were found.\")\n",
    "        print(myFile)\n",
    "\n",
    "    else:\n",
    "        # Grab the first face encoding\n",
    "        first_face_encoding=list(face_encodings[0])\n",
    "\n",
    "\n",
    "        with open('New_faces.csv', 'a') as  f:\n",
    "            csv_writer = csv.writer(f, delimiter=';')\n",
    "            csv_writer.writerow(first_face_encoding)"
   ]
  },
  {
   "cell_type": "code",
   "execution_count": 42,
   "id": "e5ec61ca",
   "metadata": {},
   "outputs": [],
   "source": [
    "files = glob.glob (\"C:/Users/Akshay/Desktop/face_rec/5/*.jpg\")\n",
    "for myFile in files:\n",
    "    image: ndarray = face_recognition.load_image_file(myFile)\n",
    "    face_encodings = face_recognition.face_encodings(image)\n",
    "\n",
    "    if len(face_encodings) == 0:\n",
    "        # No faces found in the image.\n",
    "        print(\"No faces were found.\")\n",
    "        print(myFile)\n",
    "\n",
    "    else:\n",
    "        # Grab the first face encoding\n",
    "        first_face_encoding=list(face_encodings[0])\n",
    "\n",
    "\n",
    "        with open('New_faces.csv', 'a') as  f:\n",
    "            csv_writer = csv.writer(f, delimiter=';')\n",
    "            csv_writer.writerow(first_face_encoding)"
   ]
  },
  {
   "cell_type": "code",
   "execution_count": 43,
   "id": "5ff22952",
   "metadata": {},
   "outputs": [],
   "source": [
    "files = glob.glob (\"C:/Users/Akshay/Desktop/face_rec/6/*.jpg\")\n",
    "for myFile in files:\n",
    "    image: ndarray = face_recognition.load_image_file(myFile)\n",
    "    face_encodings = face_recognition.face_encodings(image)\n",
    "\n",
    "    if len(face_encodings) == 0:\n",
    "        # No faces found in the image.\n",
    "        print(\"No faces were found.\")\n",
    "        print(myFile)\n",
    "\n",
    "    else:\n",
    "        # Grab the first face encoding\n",
    "        first_face_encoding=list(face_encodings[0])\n",
    "\n",
    "\n",
    "        with open('New_faces.csv', 'a') as  f:\n",
    "            csv_writer = csv.writer(f, delimiter=';')\n",
    "            csv_writer.writerow(first_face_encoding)"
   ]
  },
  {
   "cell_type": "code",
   "execution_count": 44,
   "id": "79115d92",
   "metadata": {},
   "outputs": [
    {
     "name": "stdout",
     "output_type": "stream",
     "text": [
      "No faces were found.\n",
      "C:/Users/Akshay/Desktop/face_rec/7\\IMG-20190715-WA0035.jpg\n"
     ]
    }
   ],
   "source": [
    "files = glob.glob (\"C:/Users/Akshay/Desktop/face_rec/7/*.jpg\")\n",
    "for myFile in files:\n",
    "    image: ndarray = face_recognition.load_image_file(myFile)\n",
    "    face_encodings = face_recognition.face_encodings(image)\n",
    "\n",
    "    if len(face_encodings) == 0:\n",
    "        # No faces found in the image.\n",
    "        print(\"No faces were found.\")\n",
    "        print(myFile)\n",
    "\n",
    "    else:\n",
    "        # Grab the first face encoding\n",
    "        first_face_encoding=list(face_encodings[0])\n",
    "\n",
    "\n",
    "        with open('New_faces.csv', 'a') as  f:\n",
    "            csv_writer = csv.writer(f, delimiter=';')\n",
    "            csv_writer.writerow(first_face_encoding)"
   ]
  },
  {
   "cell_type": "code",
   "execution_count": 45,
   "id": "f0dad48f",
   "metadata": {},
   "outputs": [],
   "source": [
    "files = glob.glob (\"C:/Users/Akshay/Desktop/face_rec/8/*.jpg\")\n",
    "for myFile in files:\n",
    "    image: ndarray = face_recognition.load_image_file(myFile)\n",
    "    face_encodings = face_recognition.face_encodings(image)\n",
    "\n",
    "    if len(face_encodings) == 0:\n",
    "        # No faces found in the image.\n",
    "        print(\"No faces were found.\")\n",
    "        print(myFile)\n",
    "\n",
    "    else:\n",
    "        # Grab the first face encoding\n",
    "        first_face_encoding=list(face_encodings[0])\n",
    "\n",
    "\n",
    "        with open('New_faces.csv', 'a') as  f:\n",
    "            csv_writer = csv.writer(f, delimiter=';')\n",
    "            csv_writer.writerow(first_face_encoding)"
   ]
  },
  {
   "cell_type": "code",
   "execution_count": 47,
   "id": "91f77cba",
   "metadata": {},
   "outputs": [
    {
     "name": "stdout",
     "output_type": "stream",
     "text": [
      "No faces were found.\n",
      "C:/Users/Akshay/Desktop/face_rec/9\\MVIMG_20190816_115613.jpg\n"
     ]
    }
   ],
   "source": [
    "files = glob.glob (\"C:/Users/Akshay/Desktop/face_rec/9/*.jpg\")\n",
    "for myFile in files:\n",
    "    image: ndarray = face_recognition.load_image_file(myFile)\n",
    "    face_encodings = face_recognition.face_encodings(image)\n",
    "\n",
    "    if len(face_encodings) == 0:\n",
    "        # No faces found in the image.\n",
    "        print(\"No faces were found.\")\n",
    "        print(myFile)\n",
    "\n",
    "    else:\n",
    "        # Grab the first face encoding\n",
    "        first_face_encoding=list(face_encodings[0])\n",
    "\n",
    "\n",
    "        with open('New_faces.csv', 'a') as  f:\n",
    "            csv_writer = csv.writer(f, delimiter=';')\n",
    "            csv_writer.writerow(first_face_encoding)"
   ]
  },
  {
   "cell_type": "code",
   "execution_count": 49,
   "id": "0478a38f",
   "metadata": {},
   "outputs": [],
   "source": [
    "files = glob.glob (\"C:/Users/Akshay/Desktop/face_rec/10/*.jpg\")\n",
    "for myFile in files:\n",
    "    image: ndarray = face_recognition.load_image_file(myFile)\n",
    "    face_encodings = face_recognition.face_encodings(image)\n",
    "\n",
    "    if len(face_encodings) == 0:\n",
    "        # No faces found in the image.\n",
    "        print(\"No faces were found.\")\n",
    "        print(myFile)\n",
    "\n",
    "    else:\n",
    "        # Grab the first face encoding\n",
    "        first_face_encoding=list(face_encodings[0])\n",
    "\n",
    "\n",
    "        with open('New_faces.csv', 'a') as  f:\n",
    "            csv_writer = csv.writer(f, delimiter=';')\n",
    "            csv_writer.writerow(first_face_encoding)"
   ]
  },
  {
   "cell_type": "code",
   "execution_count": 51,
   "id": "a6996d45",
   "metadata": {},
   "outputs": [],
   "source": [
    "files = glob.glob (\"C:/Users/Akshay/Desktop/face_rec/10_2/*.jpg\")\n",
    "for myFile in files:\n",
    "    image: ndarray = face_recognition.load_image_file(myFile)\n",
    "    face_encodings = face_recognition.face_encodings(image)\n",
    "\n",
    "    if len(face_encodings) == 0:\n",
    "        # No faces found in the image.\n",
    "        print(\"No faces were found.\")\n",
    "        print(myFile)\n",
    "\n",
    "    else:\n",
    "        # Grab the first face encoding\n",
    "        first_face_encoding=list(face_encodings[0])\n",
    "\n",
    "\n",
    "        with open('New_faces.csv', 'a') as  f:\n",
    "            csv_writer = csv.writer(f, delimiter=';')\n",
    "            csv_writer.writerow(first_face_encoding)"
   ]
  },
  {
   "cell_type": "code",
   "execution_count": 52,
   "id": "a6a96695",
   "metadata": {},
   "outputs": [],
   "source": [
    "files = glob.glob (\"C:/Users/Akshay/Desktop/face_rec/9_2/*.jpg\")\n",
    "for myFile in files:\n",
    "    image: ndarray = face_recognition.load_image_file(myFile)\n",
    "    face_encodings = face_recognition.face_encodings(image)\n",
    "\n",
    "    if len(face_encodings) == 0:\n",
    "        # No faces found in the image.\n",
    "        print(\"No faces were found.\")\n",
    "        print(myFile)\n",
    "\n",
    "    else:\n",
    "        # Grab the first face encoding\n",
    "        first_face_encoding=list(face_encodings[0])\n",
    "\n",
    "\n",
    "        with open('New_faces.csv', 'a') as  f:\n",
    "            csv_writer = csv.writer(f, delimiter=';')\n",
    "            csv_writer.writerow(first_face_encoding)"
   ]
  },
  {
   "cell_type": "code",
   "execution_count": 53,
   "id": "e9928430",
   "metadata": {},
   "outputs": [],
   "source": [
    "files = glob.glob (\"C:/Users/Akshay/Desktop/face_rec/7_2/*.jpg\")\n",
    "for myFile in files:\n",
    "    image: ndarray = face_recognition.load_image_file(myFile)\n",
    "    face_encodings = face_recognition.face_encodings(image)\n",
    "\n",
    "    if len(face_encodings) == 0:\n",
    "        # No faces found in the image.\n",
    "        print(\"No faces were found.\")\n",
    "        print(myFile)\n",
    "\n",
    "    else:\n",
    "        # Grab the first face encoding\n",
    "        first_face_encoding=list(face_encodings[0])\n",
    "\n",
    "\n",
    "        with open('New_faces.csv', 'a') as  f:\n",
    "            csv_writer = csv.writer(f, delimiter=';')\n",
    "            csv_writer.writerow(first_face_encoding)"
   ]
  },
  {
   "cell_type": "code",
   "execution_count": 55,
   "id": "d988302c",
   "metadata": {},
   "outputs": [],
   "source": [
    "files = glob.glob (\"C:/Users/Akshay/Desktop/face_rec/8_2/*.jpg\")\n",
    "for myFile in files:\n",
    "    image: ndarray = face_recognition.load_image_file(myFile)\n",
    "    face_encodings = face_recognition.face_encodings(image)\n",
    "\n",
    "    if len(face_encodings) == 0:\n",
    "        # No faces found in the image.\n",
    "        print(\"No faces were found.\")\n",
    "        print(myFile)\n",
    "\n",
    "    else:\n",
    "        # Grab the first face encoding\n",
    "        first_face_encoding=list(face_encodings[0])\n",
    "\n",
    "\n",
    "        with open('New_faces.csv', 'a') as  f:\n",
    "            csv_writer = csv.writer(f, delimiter=';')\n",
    "            csv_writer.writerow(first_face_encoding)"
   ]
  },
  {
   "cell_type": "code",
   "execution_count": 57,
   "id": "7247dcb4",
   "metadata": {},
   "outputs": [],
   "source": [
    "files = glob.glob (\"C:/Users/Akshay/Desktop/face_rec/6_2/*.jpg\")\n",
    "for myFile in files:\n",
    "    image: ndarray = face_recognition.load_image_file(myFile)\n",
    "    face_encodings = face_recognition.face_encodings(image)\n",
    "\n",
    "    if len(face_encodings) == 0:\n",
    "        # No faces found in the image.\n",
    "        print(\"No faces were found.\")\n",
    "        print(myFile)\n",
    "\n",
    "    else:\n",
    "        # Grab the first face encoding\n",
    "        first_face_encoding=list(face_encodings[0])\n",
    "\n",
    "\n",
    "        with open('New_faces.csv', 'a') as  f:\n",
    "            csv_writer = csv.writer(f, delimiter=';')\n",
    "            csv_writer.writerow(first_face_encoding)"
   ]
  },
  {
   "cell_type": "code",
   "execution_count": 58,
   "id": "71ab820a",
   "metadata": {},
   "outputs": [],
   "source": [
    "files = glob.glob (\"C:/Users/Akshay/Desktop/face_rec/5_2/*.jpg\")\n",
    "for myFile in files:\n",
    "    image: ndarray = face_recognition.load_image_file(myFile)\n",
    "    face_encodings = face_recognition.face_encodings(image)\n",
    "\n",
    "    if len(face_encodings) == 0:\n",
    "        # No faces found in the image.\n",
    "        print(\"No faces were found.\")\n",
    "        print(myFile)\n",
    "\n",
    "    else:\n",
    "        # Grab the first face encoding\n",
    "        first_face_encoding=list(face_encodings[0])\n",
    "\n",
    "\n",
    "        with open('New_faces.csv', 'a') as  f:\n",
    "            csv_writer = csv.writer(f, delimiter=';')\n",
    "            csv_writer.writerow(first_face_encoding)"
   ]
  },
  {
   "cell_type": "code",
   "execution_count": 59,
   "id": "f6e17c92",
   "metadata": {},
   "outputs": [],
   "source": [
    "files = glob.glob (\"C:/Users/Akshay/Desktop/face_rec/4_2/*.jpg\")\n",
    "for myFile in files:\n",
    "    image: ndarray = face_recognition.load_image_file(myFile)\n",
    "    face_encodings = face_recognition.face_encodings(image)\n",
    "\n",
    "    if len(face_encodings) == 0:\n",
    "        # No faces found in the image.\n",
    "        print(\"No faces were found.\")\n",
    "        print(myFile)\n",
    "\n",
    "    else:\n",
    "        # Grab the first face encoding\n",
    "        first_face_encoding=list(face_encodings[0])\n",
    "\n",
    "\n",
    "        with open('New_faces.csv', 'a') as  f:\n",
    "            csv_writer = csv.writer(f, delimiter=';')\n",
    "            csv_writer.writerow(first_face_encoding)"
   ]
  },
  {
   "cell_type": "code",
   "execution_count": 60,
   "id": "394ae13d",
   "metadata": {},
   "outputs": [
    {
     "name": "stdout",
     "output_type": "stream",
     "text": [
      "No faces were found.\n",
      "C:/Users/Akshay/Desktop/face_rec/2_2\\Screenshot_20200115-125231.jpg\n",
      "No faces were found.\n",
      "C:/Users/Akshay/Desktop/face_rec/2_2\\Screenshot_20200120-122749.jpg\n"
     ]
    }
   ],
   "source": [
    "files = glob.glob (\"C:/Users/Akshay/Desktop/face_rec/2_2/*.jpg\")\n",
    "for myFile in files:\n",
    "    image: ndarray = face_recognition.load_image_file(myFile)\n",
    "    face_encodings = face_recognition.face_encodings(image)\n",
    "\n",
    "    if len(face_encodings) == 0:\n",
    "        # No faces found in the image.\n",
    "        print(\"No faces were found.\")\n",
    "        print(myFile)\n",
    "\n",
    "    else:\n",
    "        # Grab the first face encoding\n",
    "        first_face_encoding=list(face_encodings[0])\n",
    "\n",
    "\n",
    "        with open('New_faces.csv', 'a') as  f:\n",
    "            csv_writer = csv.writer(f, delimiter=';')\n",
    "            csv_writer.writerow(first_face_encoding)"
   ]
  },
  {
   "cell_type": "code",
   "execution_count": 61,
   "id": "26c51cc2",
   "metadata": {},
   "outputs": [],
   "source": [
    "files = glob.glob (\"C:/Users/Akshay/Desktop/face_rec/1_2/*.jpg\")\n",
    "for myFile in files:\n",
    "    image: ndarray = face_recognition.load_image_file(myFile)\n",
    "    face_encodings = face_recognition.face_encodings(image)\n",
    "\n",
    "    if len(face_encodings) == 0:\n",
    "        # No faces found in the image.\n",
    "        print(\"No faces were found.\")\n",
    "        print(myFile)\n",
    "\n",
    "    else:\n",
    "        # Grab the first face encoding\n",
    "        first_face_encoding=list(face_encodings[0])\n",
    "\n",
    "\n",
    "        with open('New_faces.csv', 'a') as  f:\n",
    "            csv_writer = csv.writer(f, delimiter=';')\n",
    "            csv_writer.writerow(first_face_encoding)"
   ]
  },
  {
   "cell_type": "code",
   "execution_count": 77,
   "id": "beaaa621",
   "metadata": {},
   "outputs": [],
   "source": [
    "files = glob.glob (\"C:/Users/Akshay/Desktop/face_rec/11/*.jpg\")\n",
    "for myFile in files:\n",
    "    image: ndarray = face_recognition.load_image_file(myFile)\n",
    "    face_encodings = face_recognition.face_encodings(image)\n",
    "\n",
    "    if len(face_encodings) == 0:\n",
    "        # No faces found in the image.\n",
    "        print(\"No faces were found.\")\n",
    "        print(myFile)\n",
    "\n",
    "    else:\n",
    "        # Grab the first face encoding\n",
    "        first_face_encoding=list(face_encodings[0])\n",
    "\n",
    "\n",
    "        with open('New_faces.csv', 'a') as  f:\n",
    "            csv_writer = csv.writer(f, delimiter=';')\n",
    "            csv_writer.writerow(first_face_encoding)"
   ]
  },
  {
   "cell_type": "code",
   "execution_count": 79,
   "id": "fe2808d9",
   "metadata": {},
   "outputs": [],
   "source": [
    "files = glob.glob (\"C:/Users/Akshay/Desktop/face_rec/12/*.jpg\")\n",
    "for myFile in files:\n",
    "    image: ndarray = face_recognition.load_image_file(myFile)\n",
    "    face_encodings = face_recognition.face_encodings(image)\n",
    "\n",
    "    if len(face_encodings) == 0:\n",
    "        # No faces found in the image.\n",
    "        print(\"No faces were found.\")\n",
    "        print(myFile)\n",
    "\n",
    "    else:\n",
    "        # Grab the first face encoding\n",
    "        first_face_encoding=list(face_encodings[0])\n",
    "\n",
    "\n",
    "        with open('New_faces.csv', 'a') as  f:\n",
    "            csv_writer = csv.writer(f, delimiter=';')\n",
    "            csv_writer.writerow(first_face_encoding)"
   ]
  },
  {
   "cell_type": "code",
   "execution_count": 80,
   "id": "2bd5a61d",
   "metadata": {},
   "outputs": [],
   "source": [
    "files = glob.glob (\"C:/Users/Akshay/Desktop/face_rec/13/*.jpg\")\n",
    "for myFile in files:\n",
    "    image: ndarray = face_recognition.load_image_file(myFile)\n",
    "    face_encodings = face_recognition.face_encodings(image)\n",
    "\n",
    "    if len(face_encodings) == 0:\n",
    "        # No faces found in the image.\n",
    "        print(\"No faces were found.\")\n",
    "        print(myFile)\n",
    "\n",
    "    else:\n",
    "        # Grab the first face encoding\n",
    "        first_face_encoding=list(face_encodings[0])\n",
    "\n",
    "\n",
    "        with open('New_faces.csv', 'a') as  f:\n",
    "            csv_writer = csv.writer(f, delimiter=';')\n",
    "            csv_writer.writerow(first_face_encoding)"
   ]
  },
  {
   "cell_type": "code",
   "execution_count": 81,
   "id": "6a9e9820",
   "metadata": {},
   "outputs": [],
   "source": [
    "files = glob.glob (\"C:/Users/Akshay/Desktop/face_rec/14/*.jpg\")\n",
    "for myFile in files:\n",
    "    image: ndarray = face_recognition.load_image_file(myFile)\n",
    "    face_encodings = face_recognition.face_encodings(image)\n",
    "\n",
    "    if len(face_encodings) == 0:\n",
    "        # No faces found in the image.\n",
    "        print(\"No faces were found.\")\n",
    "        print(myFile)\n",
    "\n",
    "    else:\n",
    "        # Grab the first face encoding\n",
    "        first_face_encoding=list(face_encodings[0])\n",
    "\n",
    "\n",
    "        with open('New_faces.csv', 'a') as  f:\n",
    "            csv_writer = csv.writer(f, delimiter=';')\n",
    "            csv_writer.writerow(first_face_encoding)"
   ]
  },
  {
   "cell_type": "code",
   "execution_count": 82,
   "id": "2d575eb8",
   "metadata": {},
   "outputs": [
    {
     "name": "stdout",
     "output_type": "stream",
     "text": [
      "No faces were found.\n",
      "C:/Users/Akshay/Desktop/face_rec/15\\8.jpg\n"
     ]
    }
   ],
   "source": [
    "files = glob.glob (\"C:/Users/Akshay/Desktop/face_rec/15/*.jpg\")\n",
    "for myFile in files:\n",
    "    image: ndarray = face_recognition.load_image_file(myFile)\n",
    "    face_encodings = face_recognition.face_encodings(image)\n",
    "\n",
    "    if len(face_encodings) == 0:\n",
    "        # No faces found in the image.\n",
    "        print(\"No faces were found.\")\n",
    "        print(myFile)\n",
    "\n",
    "    else:\n",
    "        # Grab the first face encoding\n",
    "        first_face_encoding=list(face_encodings[0])\n",
    "\n",
    "\n",
    "        with open('New_faces.csv', 'a') as  f:\n",
    "            csv_writer = csv.writer(f, delimiter=';')\n",
    "            csv_writer.writerow(first_face_encoding)"
   ]
  },
  {
   "cell_type": "code",
   "execution_count": 83,
   "id": "c4d57fd8",
   "metadata": {},
   "outputs": [],
   "source": [
    "files = glob.glob (\"C:/Users/Akshay/Desktop/face_rec/16/*.jpg\")\n",
    "for myFile in files:\n",
    "    image: ndarray = face_recognition.load_image_file(myFile)\n",
    "    face_encodings = face_recognition.face_encodings(image)\n",
    "\n",
    "    if len(face_encodings) == 0:\n",
    "        # No faces found in the image.\n",
    "        print(\"No faces were found.\")\n",
    "        print(myFile)\n",
    "\n",
    "    else:\n",
    "        # Grab the first face encoding\n",
    "        first_face_encoding=list(face_encodings[0])\n",
    "\n",
    "\n",
    "        with open('New_faces.csv', 'a') as  f:\n",
    "            csv_writer = csv.writer(f, delimiter=';')\n",
    "            csv_writer.writerow(first_face_encoding)"
   ]
  },
  {
   "cell_type": "code",
   "execution_count": 84,
   "id": "ae4acca2",
   "metadata": {},
   "outputs": [],
   "source": [
    "files = glob.glob (\"C:/Users/Akshay/Desktop/face_rec/17/*.jpg\")\n",
    "for myFile in files:\n",
    "    image: ndarray = face_recognition.load_image_file(myFile)\n",
    "    face_encodings = face_recognition.face_encodings(image)\n",
    "\n",
    "    if len(face_encodings) == 0:\n",
    "        # No faces found in the image.\n",
    "        print(\"No faces were found.\")\n",
    "        print(myFile)\n",
    "\n",
    "    else:\n",
    "        # Grab the first face encoding\n",
    "        first_face_encoding=list(face_encodings[0])\n",
    "\n",
    "\n",
    "        with open('New_faces.csv', 'a') as  f:\n",
    "            csv_writer = csv.writer(f, delimiter=';')\n",
    "            csv_writer.writerow(first_face_encoding)"
   ]
  },
  {
   "cell_type": "code",
   "execution_count": 85,
   "id": "e8e57acb",
   "metadata": {},
   "outputs": [],
   "source": [
    "files = glob.glob (\"C:/Users/Akshay/Desktop/face_rec/18/*.jpg\")\n",
    "for myFile in files:\n",
    "    image: ndarray = face_recognition.load_image_file(myFile)\n",
    "    face_encodings = face_recognition.face_encodings(image)\n",
    "\n",
    "    if len(face_encodings) == 0:\n",
    "        # No faces found in the image.\n",
    "        print(\"No faces were found.\")\n",
    "        print(myFile)\n",
    "\n",
    "    else:\n",
    "        # Grab the first face encoding\n",
    "        first_face_encoding=list(face_encodings[0])\n",
    "\n",
    "\n",
    "        with open('New_faces.csv', 'a') as  f:\n",
    "            csv_writer = csv.writer(f, delimiter=';')\n",
    "            csv_writer.writerow(first_face_encoding)"
   ]
  },
  {
   "cell_type": "code",
   "execution_count": 86,
   "id": "d188981b",
   "metadata": {},
   "outputs": [],
   "source": [
    "files = glob.glob (\"C:/Users/Akshay/Desktop/face_rec/19/*.jpg\")\n",
    "for myFile in files:\n",
    "    image: ndarray = face_recognition.load_image_file(myFile)\n",
    "    face_encodings = face_recognition.face_encodings(image)\n",
    "\n",
    "    if len(face_encodings) == 0:\n",
    "        # No faces found in the image.\n",
    "        print(\"No faces were found.\")\n",
    "        print(myFile)\n",
    "\n",
    "    else:\n",
    "        # Grab the first face encoding\n",
    "        first_face_encoding=list(face_encodings[0])\n",
    "\n",
    "\n",
    "        with open('New_faces.csv', 'a') as  f:\n",
    "            csv_writer = csv.writer(f, delimiter=';')\n",
    "            csv_writer.writerow(first_face_encoding)"
   ]
  },
  {
   "cell_type": "code",
   "execution_count": 87,
   "id": "9e36633d",
   "metadata": {},
   "outputs": [],
   "source": [
    "files = glob.glob (\"C:/Users/Akshay/Desktop/face_rec/20/*.jpg\")\n",
    "for myFile in files:\n",
    "    image: ndarray = face_recognition.load_image_file(myFile)\n",
    "    face_encodings = face_recognition.face_encodings(image)\n",
    "\n",
    "    if len(face_encodings) == 0:\n",
    "        # No faces found in the image.\n",
    "        print(\"No faces were found.\")\n",
    "        print(myFile)\n",
    "\n",
    "    else:\n",
    "        # Grab the first face encoding\n",
    "        first_face_encoding=list(face_encodings[0])\n",
    "\n",
    "\n",
    "        with open('New_faces.csv', 'a') as  f:\n",
    "            csv_writer = csv.writer(f, delimiter=';')\n",
    "            csv_writer.writerow(first_face_encoding)"
   ]
  },
  {
   "cell_type": "code",
   "execution_count": 88,
   "id": "728dac9c",
   "metadata": {},
   "outputs": [],
   "source": [
    "files = glob.glob (\"C:/Users/Akshay/Desktop/face_rec/extra/*.jpg\")\n",
    "for myFile in files:\n",
    "    image: ndarray = face_recognition.load_image_file(myFile)\n",
    "    face_encodings = face_recognition.face_encodings(image)\n",
    "\n",
    "    if len(face_encodings) == 0:\n",
    "        # No faces found in the image.\n",
    "        print(\"No faces were found.\")\n",
    "        print(myFile)\n",
    "\n",
    "    else:\n",
    "        # Grab the first face encoding\n",
    "        first_face_encoding=list(face_encodings[0])\n",
    "\n",
    "\n",
    "        with open('New_faces.csv', 'a') as  f:\n",
    "            csv_writer = csv.writer(f, delimiter=';')\n",
    "            csv_writer.writerow(first_face_encoding)"
   ]
  },
  {
   "cell_type": "code",
   "execution_count": 89,
   "id": "d8982b9d",
   "metadata": {},
   "outputs": [],
   "source": [
    "files = glob.glob (\"C:/Users/Akshay/Desktop/face_rec/extra/*.jpg\")\n",
    "for myFile in files:\n",
    "    image: ndarray = face_recognition.load_image_file(myFile)\n",
    "    face_encodings = face_recognition.face_encodings(image)\n",
    "\n",
    "    if len(face_encodings) == 0:\n",
    "        # No faces found in the image.\n",
    "        print(\"No faces were found.\")\n",
    "        print(myFile)\n",
    "\n",
    "    else:\n",
    "        # Grab the first face encoding\n",
    "        first_face_encoding=list(face_encodings[0])\n",
    "\n",
    "\n",
    "        with open('New_faces.csv', 'a') as  f:\n",
    "            csv_writer = csv.writer(f, delimiter=';')\n",
    "            csv_writer.writerow(first_face_encoding)"
   ]
  },
  {
   "cell_type": "code",
   "execution_count": null,
   "id": "c998ecd1",
   "metadata": {},
   "outputs": [],
   "source": []
  },
  {
   "cell_type": "markdown",
   "id": "0d2209ba",
   "metadata": {},
   "source": [
    "# reading csv"
   ]
  },
  {
   "cell_type": "code",
   "execution_count": 90,
   "id": "806d0a79",
   "metadata": {},
   "outputs": [],
   "source": [
    "face1 = pd.read_csv('C:/Users/Akshay/Desktop/final.csv')"
   ]
  },
  {
   "cell_type": "code",
   "execution_count": 91,
   "id": "2412b6f5",
   "metadata": {},
   "outputs": [],
   "source": [
    "x = face1.iloc[:,:-1]\n",
    "y = face1.iloc[:,-1]"
   ]
  },
  {
   "cell_type": "code",
   "execution_count": 92,
   "id": "c3a16955",
   "metadata": {},
   "outputs": [],
   "source": [
    "x = pd.DataFrame(x)"
   ]
  },
  {
   "cell_type": "code",
   "execution_count": 93,
   "id": "912171f3",
   "metadata": {},
   "outputs": [],
   "source": [
    "from sklearn.model_selection import train_test_split\n",
    "x_train, x_test, y_train, y_test=train_test_split(x, y, test_size = 0.3, random_state=18)"
   ]
  },
  {
   "cell_type": "code",
   "execution_count": null,
   "id": "e500df3c",
   "metadata": {},
   "outputs": [],
   "source": []
  },
  {
   "cell_type": "markdown",
   "id": "297bd98a",
   "metadata": {},
   "source": [
    "# Random Forest Regressor"
   ]
  },
  {
   "cell_type": "code",
   "execution_count": 94,
   "id": "4724ceb2",
   "metadata": {},
   "outputs": [],
   "source": [
    "from sklearn.ensemble import RandomForestClassifier\n",
    "model=RandomForestClassifier()"
   ]
  },
  {
   "cell_type": "code",
   "execution_count": 95,
   "id": "c7df955f",
   "metadata": {},
   "outputs": [
    {
     "data": {
      "text/plain": [
       "RandomForestClassifier()"
      ]
     },
     "execution_count": 95,
     "metadata": {},
     "output_type": "execute_result"
    }
   ],
   "source": [
    "model.fit(x_train,y_train)"
   ]
  },
  {
   "cell_type": "code",
   "execution_count": 96,
   "id": "13777f4f",
   "metadata": {},
   "outputs": [
    {
     "data": {
      "text/plain": [
       "array([18,  5,  3,  9,  4,  5,  2, 13, 16, 20,  6, 13,  1,  3,  3, 12,  4,\n",
       "        5, 11, 12, 15, 13,  2,  6, 12,  2,  9,  8, 18, 12,  2,  3, 19, 10,\n",
       "       10,  4,  9, 15, 16, 13,  4,  1, 14, 14, 11,  9, 11, 15,  4,  4,  3,\n",
       "        1, 18, 15,  1, 19, 19,  5, 16, 14,  2,  6,  4, 20,  7,  1, 17, 20,\n",
       "       12,  7,  5,  9, 18,  6, 16, 10,  1,  6, 16, 20,  4,  4, 17,  5,  5,\n",
       "       17, 16, 14,  2,  5], dtype=int64)"
      ]
     },
     "execution_count": 96,
     "metadata": {},
     "output_type": "execute_result"
    }
   ],
   "source": [
    "model.predict(x_test)"
   ]
  },
  {
   "cell_type": "code",
   "execution_count": 97,
   "id": "2476c732",
   "metadata": {},
   "outputs": [
    {
     "data": {
      "text/plain": [
       "0.9666666666666667"
      ]
     },
     "execution_count": 97,
     "metadata": {},
     "output_type": "execute_result"
    }
   ],
   "source": [
    "model.score(x_test,y_test)"
   ]
  },
  {
   "cell_type": "code",
   "execution_count": null,
   "id": "a79a68eb",
   "metadata": {},
   "outputs": [],
   "source": []
  },
  {
   "cell_type": "markdown",
   "id": "f5f35e57",
   "metadata": {},
   "source": [
    "# DecisionTreeClassifier "
   ]
  },
  {
   "cell_type": "code",
   "execution_count": 98,
   "id": "460dd953",
   "metadata": {},
   "outputs": [],
   "source": [
    "from sklearn.tree import DecisionTreeClassifier  \n",
    "model1=DecisionTreeClassifier()  "
   ]
  },
  {
   "cell_type": "code",
   "execution_count": 99,
   "id": "6ac095ff",
   "metadata": {},
   "outputs": [
    {
     "data": {
      "text/plain": [
       "DecisionTreeClassifier()"
      ]
     },
     "execution_count": 99,
     "metadata": {},
     "output_type": "execute_result"
    }
   ],
   "source": [
    "model1.fit(x_train, y_train)"
   ]
  },
  {
   "cell_type": "code",
   "execution_count": 100,
   "id": "75443ae5",
   "metadata": {},
   "outputs": [
    {
     "data": {
      "text/plain": [
       "array([18, 18,  6,  9,  6,  5, 18, 13,  1, 13,  6, 13,  1,  3, 16, 12,  4,\n",
       "        7, 11, 12, 15, 13,  2,  7, 12,  2,  9,  8, 18, 12,  2,  3, 19,  8,\n",
       "        8, 12,  9, 15, 12, 13, 14,  7, 14, 14, 11,  9, 11, 15,  6,  4,  3,\n",
       "       12, 18, 16,  6, 19, 19,  7, 16, 14,  1,  6,  6, 20,  7,  4, 17, 20,\n",
       "       12,  4, 12,  9, 18,  6, 14, 10,  1,  6, 16, 20, 12, 12, 17, 18,  5,\n",
       "       17, 16, 14,  2,  5], dtype=int64)"
      ]
     },
     "execution_count": 100,
     "metadata": {},
     "output_type": "execute_result"
    }
   ],
   "source": [
    "model1.predict(x_test)"
   ]
  },
  {
   "cell_type": "code",
   "execution_count": 101,
   "id": "54f6e2d8",
   "metadata": {},
   "outputs": [
    {
     "data": {
      "text/plain": [
       "0.6444444444444445"
      ]
     },
     "execution_count": 101,
     "metadata": {},
     "output_type": "execute_result"
    }
   ],
   "source": [
    "model1.score(x_test,y_test)"
   ]
  },
  {
   "cell_type": "code",
   "execution_count": null,
   "id": "52f4fda2",
   "metadata": {},
   "outputs": [],
   "source": []
  },
  {
   "cell_type": "markdown",
   "id": "65796fc3",
   "metadata": {},
   "source": [
    "# KNeighborsClassifier"
   ]
  },
  {
   "cell_type": "code",
   "execution_count": 102,
   "id": "b7dcb45b",
   "metadata": {},
   "outputs": [],
   "source": [
    "from sklearn.neighbors import KNeighborsClassifier\n",
    "model2=KNeighborsClassifier() "
   ]
  },
  {
   "cell_type": "code",
   "execution_count": 103,
   "id": "bdb041f3",
   "metadata": {},
   "outputs": [
    {
     "data": {
      "text/plain": [
       "KNeighborsClassifier()"
      ]
     },
     "execution_count": 103,
     "metadata": {},
     "output_type": "execute_result"
    }
   ],
   "source": [
    "model2.fit(x_train, y_train)"
   ]
  },
  {
   "cell_type": "code",
   "execution_count": 104,
   "id": "392cad3d",
   "metadata": {},
   "outputs": [
    {
     "data": {
      "text/plain": [
       "array([18,  5,  3,  9,  4,  5,  2, 13, 16, 20,  6, 13,  1,  3,  3, 12,  4,\n",
       "        5, 11, 12, 15, 13,  2,  6, 12,  2,  9,  8, 18, 12,  2,  3, 19, 10,\n",
       "       10,  4,  9, 15, 16, 13,  4,  1, 14, 14, 11,  9, 11, 15,  4,  4,  3,\n",
       "        1, 18, 15,  1, 19, 19,  5, 16, 14,  2,  6,  4, 20,  7,  1, 17, 20,\n",
       "       12,  7,  5,  9, 18,  3, 16, 10, 18,  6, 16, 20,  4,  4, 17,  5,  5,\n",
       "       17, 16, 14,  2,  5], dtype=int64)"
      ]
     },
     "execution_count": 104,
     "metadata": {},
     "output_type": "execute_result"
    }
   ],
   "source": [
    "model2.predict(x_test)"
   ]
  },
  {
   "cell_type": "code",
   "execution_count": 105,
   "id": "f3a448e3",
   "metadata": {},
   "outputs": [
    {
     "data": {
      "text/plain": [
       "0.9666666666666667"
      ]
     },
     "execution_count": 105,
     "metadata": {},
     "output_type": "execute_result"
    }
   ],
   "source": [
    "model2.score(x_test, y_test)"
   ]
  },
  {
   "cell_type": "code",
   "execution_count": null,
   "id": "dc4ebfa6",
   "metadata": {},
   "outputs": [],
   "source": []
  }
 ],
 "metadata": {
  "kernelspec": {
   "display_name": "Python 3 (ipykernel)",
   "language": "python",
   "name": "python3"
  },
  "language_info": {
   "codemirror_mode": {
    "name": "ipython",
    "version": 3
   },
   "file_extension": ".py",
   "mimetype": "text/x-python",
   "name": "python",
   "nbconvert_exporter": "python",
   "pygments_lexer": "ipython3",
   "version": "3.9.7"
  }
 },
 "nbformat": 4,
 "nbformat_minor": 5
}
